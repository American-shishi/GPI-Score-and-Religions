{
 "cells": [
  {
   "cell_type": "code",
   "execution_count": 1,
   "metadata": {},
   "outputs": [
    {
     "name": "stdout",
     "output_type": "stream",
     "text": [
      "<class 'pandas.core.frame.DataFrame'>\n",
      "Index: 163 entries, Afghanistan to Zimbabwe\n",
      "Data columns (total 2 columns):\n",
      "2019 rank     163 non-null int64\n",
      "2019 score    163 non-null float64\n",
      "dtypes: float64(1), int64(1)\n",
      "memory usage: 3.8+ KB\n",
      "None\n"
     ]
    }
   ],
   "source": [
    "# Import libraries\n",
    "import requests\n",
    "from bs4 import BeautifulSoup\n",
    "import pandas as pd\n",
    "import re\n",
    "\n",
    "\n",
    "\n",
    "#Pull the Global Peace Index table\n",
    "#set the url to scrape\n",
    "url = 'https://en.wikipedia.org/wiki/Global_Peace_Index'\n",
    "\n",
    "#package and send the request, store as r\n",
    "r = requests.get(url).text\n",
    "\n",
    "#soup it\n",
    "soup = BeautifulSoup(r, features='lxml')\n",
    "#print(soup.prettify())\n",
    "\n",
    "#find the table\n",
    "MyTable = soup.find('table',{'class':'wikitable sortable'})\n",
    "\n",
    "#Convert back to string for pandas\n",
    "soup_string = str(MyTable)\n",
    "\n",
    "#read the table html into pandas as a list\n",
    "dfl = pd.read_html(soup_string)\n",
    "\n",
    "#make a blank DataFrame and then move the dlf info onto it\n",
    "df_peace = pd.DataFrame()\n",
    "df_peace = dfl[0]\n",
    "\n",
    "\n",
    "#Make it pretty\n",
    "#sort by country name\n",
    "df_peace = df_peace.sort_values(by=['Country'])\n",
    "\n",
    "#print(df_peace.columns)\n",
    "\n",
    "#we only want most recent data, drop the rest\n",
    "#\tCreate a max cap variable no matter what year it is\n",
    "colmax = len(df_peace.columns)\n",
    "#\tDrop all of the columns accept the first 3: 'country' 'most recent rank' 'most recent score'\n",
    "df_peace = df_peace.drop(df_peace.columns[3:colmax], axis=1)\n",
    "\n",
    "#clean the column names, wikipedia puts a citation in the score column\n",
    "df_peace = df_peace.rename(columns={df_peace.columns[2] : df_peace.columns[2][0:10]})\n",
    "\n",
    "#wikipedia puts an '=' in the rank column when two or more countries are tied, let's remove that\n",
    "df_peace[df_peace.columns[1]] = df_peace[df_peace.columns[1]].str.replace('=', '')\n",
    "\n",
    "#index by country name\n",
    "df_peace = df_peace.set_index(df_peace.columns[0])\n",
    "\n",
    "#the rank column is a string, make it an int\n",
    "df_peace[df_peace.columns[0]] = df_peace[df_peace.columns[0]].astype(int)\n",
    "\n",
    "print(df_peace.info())\n"
   ]
  },
  {
   "cell_type": "code",
   "execution_count": 7,
   "metadata": {},
   "outputs": [],
   "source": [
    "#Pull the Religion table\n",
    "#set the url to scrape\n",
    "url = 'https://www.pewforum.org/2015/04/02/religious-projection-table/2010/percent/all/'\n",
    "\n",
    "#package and send the request, store as r\n",
    "r = requests.get(url).text\n",
    "\n",
    "#soup it\n",
    "soup = BeautifulSoup(r, features='lxml')\n",
    "#print(soup.prettify())\n"
   ]
  },
  {
   "cell_type": "code",
   "execution_count": 8,
   "metadata": {},
   "outputs": [
    {
     "name": "stderr",
     "output_type": "stream",
     "text": [
      "/opt/miniconda3/envs/conda_env/lib/python3.7/site-packages/ipykernel_launcher.py:33: SettingWithCopyWarning: \n",
      "A value is trying to be set on a copy of a slice from a DataFrame.\n",
      "Try using .loc[row_indexer,col_indexer] = value instead\n",
      "\n",
      "See the caveats in the documentation: http://pandas.pydata.org/pandas-docs/stable/user_guide/indexing.html#returning-a-view-versus-a-copy\n"
     ]
    }
   ],
   "source": [
    "#find the table\n",
    "MyTable = soup.find('table',{'class':'adaptive sortable stickyHeader highlight'})\n",
    "\n",
    "#Convert back to string for pandas\n",
    "soup_string = str(MyTable)\n",
    "\n",
    "#read the table html into pandas as a list\n",
    "dfl = pd.read_html(soup_string)\n",
    "\n",
    "#make a blank DataFrame and then move the dlf info onto it\n",
    "df_rel = pd.DataFrame()\n",
    "df_rel = dfl[0]\n",
    "\n",
    "#Make it pretty\n",
    "#  We don't want continents or whole world data, so drop the first 7 rows\n",
    "df_rel = df_rel.iloc[8:,]\n",
    "\n",
    "#print(df_rel.info)\n",
    "\n",
    "#manual fix for different names discovered later in the code\n",
    "name_rep_dict = {'Bosnia-Herzegovina': 'Bosnia and Herzegovina',\n",
    "                 'Ivory Coast': 'Cote d\\'Ivoire',\n",
    "                 'Czech Republic': 'Czechia',\n",
    "                 'Timor-Leste': 'East Timor',\n",
    "                 'Swaziland': 'Eswatini',\n",
    "                 'Kyrgyzstan': 'Kyrgyz Republic',\n",
    "                 'Burma \\(Myanmar\\)': 'Myanmar',\n",
    "                 'Republic of Macedonia': 'North Macedonia',\n",
    "                 'Palestinian territories': 'Palestine',\n",
    "                 'Gambia': 'The Gambia'\n",
    "                }\n",
    "for key in name_rep_dict.keys():\n",
    "    df_rel['Country'] = df_rel['Country'].str.replace(key, name_rep_dict[key])\n",
    "\n",
    "#Bosnia and Herzegovina        81       2.019         NaN      NaN   \n",
    "##Cote d'Ivoire                107       2.203         NaN      NaN   \n",
    "##Czechia                       11       1.383         NaN      NaN   \n",
    "##East Timor                    63       1.914         NaN      NaN   \n",
    "##Eswatini                      72       1.986         NaN      NaN   \n",
    "##Kyrgyz Republic               95       2.105         NaN      NaN   \n",
    "##Myanmar                      125       2.393         NaN      NaN   \n",
    "##North Macedonia               65       1.933         NaN      NaN   \n",
    "##Palestine                    142       2.608         NaN      NaN   \n",
    "##The Gambia                    62       1.908         NaN      NaN   \n",
    "\n",
    "#make country name the new index value and sort by country name\n",
    "df_rel = df_rel.sort_values(by=['Country'])\n",
    "\n",
    "df_rel = df_rel.drop('Unnamed: 0', axis=1)\n",
    "\n",
    "df_rel = df_rel.set_index('Country')\n"
   ]
  },
  {
   "cell_type": "code",
   "execution_count": 9,
   "metadata": {},
   "outputs": [],
   "source": [
    "#The Pew data has % and <> characters in every data column that makes them strings, we want floats\n",
    "df_rel = df_rel.apply(lambda x: x.str.replace('%', ''))\n",
    "df_rel = df_rel.apply(lambda x: x.str.replace('<', ''))\n",
    "df_rel = df_rel.apply(lambda x: x.str.replace('>',''))\n",
    "df_rel = df_rel.apply(lambda x: pd.to_numeric(x))\n"
   ]
  },
  {
   "cell_type": "code",
   "execution_count": 10,
   "metadata": {},
   "outputs": [
    {
     "name": "stdout",
     "output_type": "stream",
     "text": [
      "Empty DataFrame\n",
      "Columns: [2019 rank, 2019 score, Christians, Muslims, Unaffiliated, Hindus, Buddhists, Folk Religions, Other, Jews, All]\n",
      "Index: []\n",
      "<class 'pandas.core.frame.DataFrame'>\n",
      "Index: 234 entries, Afghanistan to Zimbabwe\n",
      "Data columns (total 11 columns):\n",
      "2019 rank         163 non-null float64\n",
      "2019 score        163 non-null float64\n",
      "Christians        234 non-null float64\n",
      "Muslims           234 non-null float64\n",
      "Unaffiliated      234 non-null float64\n",
      "Hindus            234 non-null float64\n",
      "Buddhists         234 non-null float64\n",
      "Folk Religions    234 non-null float64\n",
      "Other             234 non-null float64\n",
      "Jews              234 non-null float64\n",
      "All               234 non-null float64\n",
      "dtypes: float64(11)\n",
      "memory usage: 31.9+ KB\n",
      "None\n"
     ]
    }
   ],
   "source": [
    "#concatenate the two dataframes\n",
    "df = pd.concat([df_peace, df_rel], axis=1, sort=True)\n",
    "#print(df.head())\n",
    "\n",
    "#There's a bunch of NaN values now.  We need to clear rows with NaN in rank and score but we will do this later.\n",
    "#First, I noticed that some of the entries were actually present, but named differently between the two data sets.  Let's fix that first manually because I don't know a better way yet.\n",
    "\n",
    "#Checking if there were any entries with data from GPI but not the Pew data\n",
    "#make a boolean and then index of entries with a numeric value (not NaN) in column 5 (picked at random)\n",
    "sancheck = df[df.columns[5]] >= 0\n",
    "dropthese = df[sancheck].index\n",
    "\n",
    "#  Delete these rows\n",
    "dfsancheck = df.drop(dropthese)\n",
    "        \n",
    "#Should print 'empty dataframe'.  If not, check names for errors\n",
    "print(dfsancheck)\n",
    "\n",
    "#turns out these are in the Pew data, just under a different name.\n",
    "##Bosnia and Herzegovina        81       2.019         NaN      NaN   \n",
    "##Cote d'Ivoire                107       2.203         NaN      NaN   \n",
    "##Czechia                       11       1.383         NaN      NaN   \n",
    "##East Timor                    63       1.914         NaN      NaN   \n",
    "##Eswatini                      72       1.986         NaN      NaN   \n",
    "##Kyrgyz Republic               95       2.105         NaN      NaN   \n",
    "##Myanmar                      125       2.393         NaN      NaN   \n",
    "##North Macedonia               65       1.933         NaN      NaN   \n",
    "##Palestine                    142       2.608         NaN      NaN   \n",
    "##The Gambia                    62       1.908         NaN      NaN   \n",
    "\n",
    "#This commented out section is what I got the first time I ran this check.  With the code retroactively fixed, the output now should be nothing.\n",
    "\n",
    "print(df.info())"
   ]
  },
  {
   "cell_type": "code",
   "execution_count": 11,
   "metadata": {},
   "outputs": [
    {
     "name": "stdout",
     "output_type": "stream",
     "text": [
      "<class 'pandas.core.frame.DataFrame'>\n",
      "Index: 163 entries, Afghanistan to Zimbabwe\n",
      "Data columns (total 11 columns):\n",
      "2019 rank         163 non-null int64\n",
      "2019 score        163 non-null float64\n",
      "Christians        163 non-null float64\n",
      "Muslims           163 non-null float64\n",
      "Unaffiliated      163 non-null float64\n",
      "Hindus            163 non-null float64\n",
      "Buddhists         163 non-null float64\n",
      "Folk Religions    163 non-null float64\n",
      "Other             163 non-null float64\n",
      "Jews              163 non-null float64\n",
      "All               163 non-null float64\n",
      "dtypes: float64(10), int64(1)\n",
      "memory usage: 15.3+ KB\n",
      "None\n"
     ]
    }
   ],
   "source": [
    "#Great, but there are still a lot of NaN values in rank and score because the Pew Data Research had more entries than the GPI, we need to drop these rows now.\n",
    "df = df.dropna()\n",
    "\n",
    "#also, for reasons I can't understand, the rank column was turned into a float when we concatenated, make it an int\n",
    "df[df.columns[0]] = df[df.columns[0]].astype(int)\n",
    "print(df.info())\n",
    "\n",
    "#Now we have a clean 163 entries again, the same as the original GPI data\n",
    "assert df.notnull().all().all()\n",
    "assert (df >= 0).all().all()"
   ]
  },
  {
   "cell_type": "code",
   "execution_count": 12,
   "metadata": {},
   "outputs": [],
   "source": [
    "#Let's export this as a CSV and then make a new program to import it and run the analysis\n",
    "df.to_csv('gpi_by_rel.csv')"
   ]
  }
 ],
 "metadata": {
  "kernelspec": {
   "display_name": "Python 3",
   "language": "python",
   "name": "python3"
  },
  "language_info": {
   "codemirror_mode": {
    "name": "ipython",
    "version": 3
   },
   "file_extension": ".py",
   "mimetype": "text/x-python",
   "name": "python",
   "nbconvert_exporter": "python",
   "pygments_lexer": "ipython3",
   "version": "3.7.3"
  }
 },
 "nbformat": 4,
 "nbformat_minor": 2
}
